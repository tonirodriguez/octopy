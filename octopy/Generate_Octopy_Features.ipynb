{
 "metadata": {
  "language_info": {
   "codemirror_mode": {
    "name": "ipython",
    "version": 3
   },
   "file_extension": ".py",
   "mimetype": "text/x-python",
   "name": "python",
   "nbconvert_exporter": "python",
   "pygments_lexer": "ipython3",
   "version": "3.7.9"
  },
  "orig_nbformat": 2,
  "kernelspec": {
   "name": "python3",
   "display_name": "Python 3.7.9 64-bit ('fastai': conda)"
  },
  "metadata": {
   "interpreter": {
    "hash": "aee8b7b246df8f9039afb4144a1f6fd8d2ca17a180786b69acc140d282b71a49"
   }
  },
  "interpreter": {
   "hash": "6bb39cf701e69f44254490007d8f940a839a2b734cfff6b86116ca9f2e63ea94"
  }
 },
 "nbformat": 4,
 "nbformat_minor": 2,
 "cells": [
  {
   "cell_type": "markdown",
   "source": [
    "# Octopy Features Generation\n",
    "\n",
    "Vamos a crear las features que me permite obtener Octopy estas son las siguientes:\n",
    "\n",
    "* Coefs para equipo local y visitante\n",
    "* Probs para equipo local y visitante"
   ],
   "metadata": {}
  },
  {
   "cell_type": "code",
   "execution_count": 1,
   "source": [
    "import warnings\n",
    "warnings.filterwarnings('ignore')\n",
    "\n",
    "import sqlite3\n",
    "import pandas as pd\n",
    "import time\n",
    "from datetime import *\n",
    "import numpy as np\n",
    "from sklearn.preprocessing import OneHotEncoder\n",
    "from logistic_model import LogisticRegression, LogisticModel\n",
    "from implied import ImpliedProbability\n",
    "from sklearn.metrics import plot_confusion_matrix, accuracy_score"
   ],
   "outputs": [],
   "metadata": {}
  },
  {
   "cell_type": "code",
   "execution_count": 2,
   "source": [
    "def connect_database(db):\n",
    "    con = sqlite3.connect(db)\n",
    "    cursor = con.cursor()\n",
    "    return cursor, con\n",
    "\n",
    "\n",
    "def leer_partidos(con):\n",
    "    partidos = pd.read_sql_query('SELECT * FROM partidos', con) #, index_col='fecha')\n",
    "    return partidos\n",
    "\n",
    "cur, con = connect_database('../../Clasificacion.db')\n",
    "\n",
    "partidos = leer_partidos(con)"
   ],
   "outputs": [],
   "metadata": {}
  },
  {
   "cell_type": "code",
   "execution_count": 3,
   "source": [
    "partidos['fecha'] = partidos['timestamp']\n",
    "partidos['fecha'] = partidos['fecha'].map(lambda X: int(datetime.fromtimestamp(int(X)).date().strftime('%Y%m%d')))\n",
    "partidos = partidos.sort_values(by='fecha')"
   ],
   "outputs": [],
   "metadata": {}
  },
  {
   "cell_type": "code",
   "execution_count": 4,
   "source": [
    "temporadas = partidos['temporada'].unique()\n",
    "dias = partidos['fecha'].unique()\n",
    "divisiones = partidos['division'].unique()"
   ],
   "outputs": [],
   "metadata": {}
  },
  {
   "cell_type": "code",
   "execution_count": 5,
   "source": [
    "for div in divisiones:\n",
    "    partidos_div = partidos[partidos['division'] == div]\n",
    "\n",
    "    for temp in temporadas:\n",
    "        partidos_temp = partidos_div[partidos_div['temporada'] == temp]\n",
    "        equipos = partidos_temp['equipo_local'].unique()\n",
    "        dias = partidos_temp[partidos_temp['jornada'] > 2]['fecha'].unique()\n",
    "\n",
    "        for d in dias:\n",
    "            partidos_dia = partidos_temp[partidos_temp['fecha'] <= d]\n",
    "            model = LogisticModel()\n",
    "            model.fit(partidos_dia['equipo_local'],partidos_dia['equipo_visitante'],partidos_dia['goles_local'],partidos_dia['goles_visitante'])\n",
    "            coefs = model.get_coef()\n",
    "            partidos_hoy = partidos_dia[partidos_dia['fecha'] == d]\n",
    "            for index, row in partidos_hoy.iterrows():\n",
    "                partidos.at[partidos['id_partido'] == row.id_partido, 'local_home_wins'] = \\\n",
    "                    coefs.loc['home_'+row.equipo_local]['home wins'][0]\n",
    "                partidos.at[partidos['id_partido'] == row.id_partido, 'local_draw'] = \\\n",
    "                    coefs.loc['home_'+row.equipo_local]['draw'][0]\n",
    "                partidos.at[partidos['id_partido'] == row.id_partido, 'local_away_wins'] = \\\n",
    "                    coefs.loc['home_'+row.equipo_local]['away wins'][0]\n",
    "\n",
    "                partidos.at[partidos['id_partido'] == row.id_partido, 'visitante_home_wins'] = \\\n",
    "                    coefs.loc['away_'+row.equipo_local]['home wins'][0]\n",
    "                partidos.at[partidos['id_partido'] == row.id_partido, 'visitante_draw'] = \\\n",
    "                    coefs.loc['away_'+row.equipo_local]['draw'][0]\n",
    "                partidos.at[partidos['id_partido'] == row.id_partido, 'visitante_away_wins'] = \\\n",
    "                    coefs.loc['away_'+row.equipo_local]['away wins'][0]\n",
    "\n",
    "                partidos.at[partidos['id_partido'] == row.id_partido, 'probs_equipo_local'] = \\\n",
    "                    model.predict_proba(row.equipo_local, row.equipo_visitante)[row.equipo_local][0]\n",
    "                partidos.at[partidos['id_partido'] == row.id_partido, 'probs_equipo_visitante'] = \\\n",
    "                    model.predict_proba(row.equipo_local, row.equipo_visitante)[row.equipo_visitante][0]\n",
    "                partidos.at[partidos['id_partido'] == row.id_partido, 'probs_draw'] = \\\n",
    "                    model.predict_proba(row.equipo_local, row.equipo_visitante)['draw'][0]\n",
    "\n",
    "        print(temp + ' ' + str(div))\n"
   ],
   "outputs": [
    {
     "output_type": "stream",
     "name": "stdout",
     "text": [
      "1970-71 2\n",
      "1971-72 2\n",
      "1972-73 2\n",
      "1973-74 2\n",
      "1974-75 2\n",
      "1975-76 2\n",
      "1976-77 2\n",
      "1977-78 2\n",
      "1978-79 2\n",
      "1979-80 2\n",
      "1980-81 2\n",
      "1981-82 2\n",
      "1982-83 2\n",
      "1983-84 2\n",
      "1984-85 2\n",
      "1985-86 2\n",
      "1986-87 2\n",
      "1987-88 2\n",
      "1988-89 2\n",
      "1989-90 2\n",
      "1990-91 2\n",
      "1991-92 2\n",
      "1992-93 2\n",
      "1993-94 2\n",
      "1994-95 2\n",
      "1995-96 2\n",
      "1996-97 2\n",
      "1997-98 2\n",
      "1998-99 2\n",
      "1999-00 2\n",
      "2000-01 2\n",
      "2001-02 2\n",
      "2002-03 2\n",
      "2003-04 2\n",
      "2004-05 2\n",
      "2005-06 2\n",
      "2006-07 2\n",
      "2007-08 2\n",
      "2008-09 2\n",
      "2009-10 2\n",
      "2010-11 2\n",
      "2011-12 2\n",
      "2012-13 2\n",
      "2013-14 2\n",
      "2014-15 2\n",
      "2015-16 2\n",
      "2016-17 2\n",
      "2017-18 2\n",
      "2018-19 2\n",
      "2019-20 2\n",
      "2020-21 2\n",
      "2021-22 2\n",
      "1970-71 1\n",
      "1971-72 1\n",
      "1972-73 1\n",
      "1973-74 1\n",
      "1974-75 1\n",
      "1975-76 1\n",
      "1976-77 1\n",
      "1977-78 1\n",
      "1978-79 1\n",
      "1979-80 1\n",
      "1980-81 1\n",
      "1981-82 1\n",
      "1982-83 1\n",
      "1983-84 1\n",
      "1984-85 1\n",
      "1985-86 1\n",
      "1986-87 1\n",
      "1987-88 1\n",
      "1988-89 1\n",
      "1989-90 1\n",
      "1990-91 1\n",
      "1991-92 1\n",
      "1992-93 1\n",
      "1993-94 1\n",
      "1994-95 1\n",
      "1995-96 1\n",
      "1996-97 1\n",
      "1997-98 1\n",
      "1998-99 1\n",
      "1999-00 1\n",
      "2000-01 1\n",
      "2001-02 1\n",
      "2002-03 1\n",
      "2003-04 1\n",
      "2004-05 1\n",
      "2005-06 1\n",
      "2006-07 1\n",
      "2007-08 1\n",
      "2008-09 1\n",
      "2009-10 1\n",
      "2010-11 1\n",
      "2011-12 1\n",
      "2012-13 1\n",
      "2013-14 1\n",
      "2014-15 1\n",
      "2015-16 1\n",
      "2016-17 1\n",
      "2017-18 1\n",
      "2018-19 1\n",
      "2019-20 1\n",
      "2020-21 1\n",
      "2021-22 1\n"
     ]
    }
   ],
   "metadata": {
    "tags": []
   }
  },
  {
   "cell_type": "code",
   "execution_count": 6,
   "source": [
    "partidos.to_csv('partidos_with_octopy_probabilites.csv')"
   ],
   "outputs": [],
   "metadata": {}
  },
  {
   "cell_type": "markdown",
   "source": [
    "## Convert String Date to Timestamp"
   ],
   "metadata": {}
  },
  {
   "cell_type": "code",
   "execution_count": 7,
   "source": [
    "import time\n",
    "import datetime"
   ],
   "outputs": [],
   "metadata": {}
  },
  {
   "cell_type": "code",
   "execution_count": 8,
   "source": [
    "time.mktime(datetime.datetime.strptime(\"23/5/2021\", \"%d/%m/%Y\").timetuple())"
   ],
   "outputs": [
    {
     "output_type": "execute_result",
     "data": {
      "text/plain": [
       "1621720800.0"
      ]
     },
     "metadata": {},
     "execution_count": 8
    }
   ],
   "metadata": {}
  }
 ]
}