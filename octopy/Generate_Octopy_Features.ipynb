{
 "metadata": {
  "language_info": {
   "codemirror_mode": {
    "name": "ipython",
    "version": 3
   },
   "file_extension": ".py",
   "mimetype": "text/x-python",
   "name": "python",
   "nbconvert_exporter": "python",
   "pygments_lexer": "ipython3",
   "version": "3.7.9"
  },
  "orig_nbformat": 2,
  "kernelspec": {
   "name": "python379jvsc74a57bd06bb39cf701e69f44254490007d8f940a839a2b734cfff6b86116ca9f2e63ea94",
   "display_name": "Python 3.7.9 64-bit ('fastai': conda)"
  },
  "metadata": {
   "interpreter": {
    "hash": "aee8b7b246df8f9039afb4144a1f6fd8d2ca17a180786b69acc140d282b71a49"
   }
  }
 },
 "nbformat": 4,
 "nbformat_minor": 2,
 "cells": [
  {
   "source": [
    "# Octopy Features Generation\n",
    "\n",
    "Vamos a crear las features que me permite obtener Octopy estas son las siguientes:\n",
    "\n",
    "* Coefs para equipo local y visitante\n",
    "* Probs para equipo local y visitante"
   ],
   "cell_type": "markdown",
   "metadata": {}
  },
  {
   "cell_type": "code",
   "execution_count": 1,
   "metadata": {},
   "outputs": [],
   "source": [
    "import warnings\n",
    "warnings.filterwarnings('ignore')\n",
    "\n",
    "import sqlite3\n",
    "import pandas as pd\n",
    "from datetime import *\n",
    "import numpy as np\n",
    "from sklearn.preprocessing import OneHotEncoder\n",
    "from logistic_model import LogisticRegression, LogisticModel\n",
    "from implied import ImpliedProbability\n",
    "from sklearn.metrics import plot_confusion_matrix, accuracy_score"
   ]
  },
  {
   "cell_type": "code",
   "execution_count": 2,
   "metadata": {},
   "outputs": [],
   "source": [
    "def connect_database(db):\n",
    "    con = sqlite3.connect(db)\n",
    "    cursor = con.cursor()\n",
    "    return cursor, con\n",
    "\n",
    "\n",
    "def leer_partidos(con):\n",
    "    partidos = pd.read_sql_query('SELECT * FROM partidos', con) #, index_col='fecha')\n",
    "    return partidos\n",
    "\n",
    "cur, con = connect_database('../../Clasificacion.v2.db')\n",
    "\n",
    "partidos = leer_partidos(con)"
   ]
  },
  {
   "cell_type": "code",
   "execution_count": 3,
   "metadata": {},
   "outputs": [],
   "source": [
    "partidos['fecha'] = partidos['timestamp']\n",
    "partidos['fecha'] = partidos['fecha'].map(lambda X: int(datetime.fromtimestamp(int(X)).date().strftime('%Y%m%d')))\n",
    "partidos = partidos.sort_values(by='fecha')"
   ]
  },
  {
   "cell_type": "code",
   "execution_count": 4,
   "metadata": {},
   "outputs": [],
   "source": [
    "temporadas = partidos['temporada'].unique()\n",
    "dias = partidos['fecha'].unique()\n",
    "divisiones = partidos['division'].unique()"
   ]
  },
  {
   "cell_type": "code",
   "execution_count": 48,
   "metadata": {
    "tags": []
   },
   "outputs": [
    {
     "output_type": "stream",
     "name": "stdout",
     "text": [
      "2019-20\n",
      "2020-21\n"
     ]
    }
   ],
   "source": [
    "for div in divisiones:\n",
    "    partidos_div = partidos[partidos['division'] == div]\n",
    "\n",
    "    for temp in temporadas:\n",
    "        partidos_temp = partidos_div[partidos_div['temporada'] == temp]\n",
    "        equipos = partidos_temp['equipo_local'].unique()\n",
    "        dias = partidos_temp[partidos_temp['jornada'] > 2]['fecha'].unique()\n",
    "\n",
    "        for d in dias:\n",
    "            partidos_dia = partidos_temp[partidos_temp['fecha'] <= d]\n",
    "            model = LogisticModel()\n",
    "            model.fit(partidos_dia['equipo_local'],partidos_dia['equipo_visitante'],partidos_dia['goles_local'],partidos_dia['goles_visitante'])\n",
    "            coefs = model.get_coef()\n",
    "            partidos_hoy = partidos_dia[partidos_dia['fecha'] == d]\n",
    "            for index, row in partidos_hoy.iterrows():\n",
    "                partidos.at[partidos['id_partido'] == row.id_partido, 'local_home_wins'] = \\\n",
    "                    coefs.loc['home_'+row.equipo_local]['home wins'][0]\n",
    "                partidos.at[partidos['id_partido'] == row.id_partido, 'local_draw'] = \\\n",
    "                    coefs.loc['home_'+row.equipo_local]['draw'][0]\n",
    "                partidos.at[partidos['id_partido'] == row.id_partido, 'local_away_wins'] = \\\n",
    "                    coefs.loc['home_'+row.equipo_local]['away wins'][0]\n",
    "\n",
    "                partidos.at[partidos['id_partido'] == row.id_partido, 'visitante_home_wins'] = \\\n",
    "                    coefs.loc['away_'+row.equipo_local]['home wins'][0]\n",
    "                partidos.at[partidos['id_partido'] == row.id_partido, 'visitante_draw'] = \\\n",
    "                    coefs.loc['away_'+row.equipo_local]['draw'][0]\n",
    "                partidos.at[partidos['id_partido'] == row.id_partido, 'visitante_away_wins'] = \\\n",
    "                    coefs.loc['away_'+row.equipo_local]['away wins'][0]\n",
    "\n",
    "                partidos.at[partidos['id_partido'] == row.id_partido, 'probs_equipo_local'] = \\\n",
    "                    model.predict_proba(row.equipo_local, row.equipo_visitante)[row.equipo_local][0]\n",
    "                partidos.at[partidos['id_partido'] == row.id_partido, 'probs_equipo_visitante'] = \\\n",
    "                    model.predict_proba(row.equipo_local, row.equipo_visitante)[row.equipo_visitante][0]\n",
    "                partidos.at[partidos['id_partido'] == row.id_partido, 'probs_draw'] = \\\n",
    "                    model.predict_proba(row.equipo_local, row.equipo_visitante)['draw'][0]\n",
    "\n",
    "        print(temp)\n"
   ]
  },
  {
   "cell_type": "code",
   "execution_count": null,
   "metadata": {},
   "outputs": [],
   "source": [
    "partidos.to_csv('partidos_with_octopy_probabilites.csv')"
   ]
  }
 ]
}