{
 "metadata": {
  "language_info": {
   "codemirror_mode": {
    "name": "ipython",
    "version": 3
   },
   "file_extension": ".py",
   "mimetype": "text/x-python",
   "name": "python",
   "nbconvert_exporter": "python",
   "pygments_lexer": "ipython3",
   "version": "3.6.10"
  },
  "orig_nbformat": 2,
  "kernelspec": {
   "name": "python3610jvsc74a57bd065f0baa68086b81811f96e1297aa231ecc8de93574f351217d76198782130b55",
   "display_name": "Python 3.6.10 64-bit ('fastai2': conda)"
  }
 },
 "nbformat": 4,
 "nbformat_minor": 2,
 "cells": [
  {
   "source": [
    "# [Building a Simple Football Prediction Model](https://medium.com/geekculture/building-a-simple-football-prediction-model-using-machine-learning-f061e607bec5)\n",
    "\n",
    "and [How to Compute Football Implied Probabilities From Bookmakers Odds](https://octosport.medium.com/how-to-compute-football-implied-probabilities-from-bookmakers-odds-bbb33ccf7c1d)"
   ],
   "cell_type": "markdown",
   "metadata": {}
  },
  {
   "cell_type": "code",
   "execution_count": 2,
   "metadata": {},
   "outputs": [],
   "source": [
    "import warnings\n",
    "warnings.filterwarnings('ignore')\n",
    "\n",
    "import sqlite3\n",
    "import pandas as pd\n",
    "from datetime import *\n",
    "import numpy as np\n",
    "from sklearn.preprocessing import OneHotEncoder\n",
    "from logistic_model import LogisticRegression, LogisticModel\n",
    "from implied import ImpliedProbability\n",
    "from sklearn.metrics import plot_confusion_matrix, accuracy_score"
   ]
  },
  {
   "cell_type": "code",
   "execution_count": 3,
   "metadata": {},
   "outputs": [],
   "source": [
    "def connect_database(db):\n",
    "    con = sqlite3.connect(db)\n",
    "    cursor = con.cursor()\n",
    "    return cursor, con\n",
    "\n",
    "\n",
    "def leer_partidos(con):\n",
    "    partidos = pd.read_sql_query('SELECT * FROM partidos', con) #, index_col='fecha')\n",
    "    return partidos\n",
    "\n",
    "cur, con = connect_database('../../Clasificacion.v2.db')\n",
    "\n",
    "partidos = leer_partidos(con)"
   ]
  },
  {
   "cell_type": "code",
   "execution_count": 4,
   "metadata": {},
   "outputs": [],
   "source": [
    "partidos['timestamp'] = partidos['timestamp'].map(lambda X: datetime.fromtimestamp(int(X)).date())\n",
    "partidos['fecha'] = partidos['timestamp']"
   ]
  },
  {
   "cell_type": "code",
   "execution_count": 5,
   "metadata": {},
   "outputs": [],
   "source": [
    "partidos = partidos.sort_values(by='fecha')\n",
    "part_test = partidos[partidos['division'] == 1]\n",
    "\n",
    "# Test Set\n",
    "part_test = part_test[part_test['fecha'] > date(2021, 2, 8)] \n",
    "\n",
    "# Train Set\n",
    "partidos = partidos[partidos['fecha'] > date(2019, 8, 1)]\n",
    "partidos = partidos[partidos['fecha'] < date(2021, 2, 8)]  "
   ]
  },
  {
   "cell_type": "code",
   "execution_count": 6,
   "metadata": {},
   "outputs": [],
   "source": [
    "train = partidos.filter(['equipo_local', 'equipo_visitante', 'goles_local', 'goles_visitante'])\n",
    "test = part_test.filter(['equipo_local', 'equipo_visitante', 'goles_local', 'goles_visitante'])"
   ]
  },
  {
   "cell_type": "code",
   "execution_count": 7,
   "metadata": {},
   "outputs": [],
   "source": [
    "equipos = train['equipo_local'].unique()"
   ]
  },
  {
   "cell_type": "code",
   "execution_count": 8,
   "metadata": {},
   "outputs": [
    {
     "output_type": "execute_result",
     "data": {
      "text/plain": [
       "      equipo_local equipo_visitante  goles_local  goles_visitante\n",
       "39214  Real Madrid           Getafe            2                0\n",
       "39426        Celta            Elche            3                1\n",
       "39430    Barcelona           Alaves            5                1\n",
       "39429        Eibar       Valladolid            1                1\n",
       "39428      Sevilla           Huesca            1                0"
      ],
      "text/html": "<div>\n<style scoped>\n    .dataframe tbody tr th:only-of-type {\n        vertical-align: middle;\n    }\n\n    .dataframe tbody tr th {\n        vertical-align: top;\n    }\n\n    .dataframe thead th {\n        text-align: right;\n    }\n</style>\n<table border=\"1\" class=\"dataframe\">\n  <thead>\n    <tr style=\"text-align: right;\">\n      <th></th>\n      <th>equipo_local</th>\n      <th>equipo_visitante</th>\n      <th>goles_local</th>\n      <th>goles_visitante</th>\n    </tr>\n  </thead>\n  <tbody>\n    <tr>\n      <th>39214</th>\n      <td>Real Madrid</td>\n      <td>Getafe</td>\n      <td>2</td>\n      <td>0</td>\n    </tr>\n    <tr>\n      <th>39426</th>\n      <td>Celta</td>\n      <td>Elche</td>\n      <td>3</td>\n      <td>1</td>\n    </tr>\n    <tr>\n      <th>39430</th>\n      <td>Barcelona</td>\n      <td>Alaves</td>\n      <td>5</td>\n      <td>1</td>\n    </tr>\n    <tr>\n      <th>39429</th>\n      <td>Eibar</td>\n      <td>Valladolid</td>\n      <td>1</td>\n      <td>1</td>\n    </tr>\n    <tr>\n      <th>39428</th>\n      <td>Sevilla</td>\n      <td>Huesca</td>\n      <td>1</td>\n      <td>0</td>\n    </tr>\n  </tbody>\n</table>\n</div>"
     },
     "metadata": {},
     "execution_count": 8
    }
   ],
   "source": [
    "test.head()"
   ]
  },
  {
   "source": [
    "## Entrenamos el Modelo"
   ],
   "cell_type": "markdown",
   "metadata": {}
  },
  {
   "cell_type": "code",
   "execution_count": 9,
   "metadata": {},
   "outputs": [],
   "source": [
    "model = LogisticModel()\n",
    "\n",
    "model.fit(train['equipo_local'],train['equipo_visitante'],train['goles_local'],train['goles_visitante'])"
   ]
  },
  {
   "cell_type": "code",
   "execution_count": 10,
   "metadata": {},
   "outputs": [],
   "source": [
    "def result(row):\n",
    "    if row['goles_local'] > row['goles_visitante']:\n",
    "        return row['equipo_local']\n",
    "    elif row['goles_local'] < row['goles_visitante']:\n",
    "        return row['equipo_visitante']\n",
    "    else:\n",
    "        return 'draw'\n",
    "\n",
    "def correct(row):\n",
    "    if row['forecast_winner'] == row['real_winner']:\n",
    "       return 1\n",
    "    else: return 0\n"
   ]
  },
  {
   "cell_type": "code",
   "execution_count": 11,
   "metadata": {},
   "outputs": [],
   "source": [
    "test['forecast_winner'] = test.apply(lambda row: model.predict_winner(row['equipo_local'], row['equipo_visitante']), axis=1)\n",
    "test['forecast_probs'] = test.apply(lambda row: model.predict_proba(row['equipo_local'], row['equipo_visitante']), axis=1)\n",
    "test['real_winner'] = test.apply(lambda row: result(row), axis=1)\n",
    "test['correct'] = test.apply(lambda row: correct(row), axis=1)"
   ]
  },
  {
   "cell_type": "code",
   "execution_count": 12,
   "metadata": {},
   "outputs": [
    {
     "output_type": "execute_result",
     "data": {
      "text/plain": [
       "0.5176470588235295"
      ]
     },
     "metadata": {},
     "execution_count": 12
    }
   ],
   "source": [
    "accuracy_score(test.real_winner, test.forecast_winner)"
   ]
  },
  {
   "source": [
    "## Copa del Rey 2020-21"
   ],
   "cell_type": "markdown",
   "metadata": {}
  },
  {
   "cell_type": "code",
   "execution_count": 13,
   "metadata": {},
   "outputs": [
    {
     "output_type": "execute_result",
     "data": {
      "text/plain": [
       "             Atletico de Bilbao      draw  Barcelona\n",
       "probability            0.070792  0.250406   0.678802"
      ],
      "text/html": "<div>\n<style scoped>\n    .dataframe tbody tr th:only-of-type {\n        vertical-align: middle;\n    }\n\n    .dataframe tbody tr th {\n        vertical-align: top;\n    }\n\n    .dataframe thead th {\n        text-align: right;\n    }\n</style>\n<table border=\"1\" class=\"dataframe\">\n  <thead>\n    <tr style=\"text-align: right;\">\n      <th></th>\n      <th>Atletico de Bilbao</th>\n      <th>draw</th>\n      <th>Barcelona</th>\n    </tr>\n  </thead>\n  <tbody>\n    <tr>\n      <th>probability</th>\n      <td>0.070792</td>\n      <td>0.250406</td>\n      <td>0.678802</td>\n    </tr>\n  </tbody>\n</table>\n</div>"
     },
     "metadata": {},
     "execution_count": 13
    }
   ],
   "source": [
    "model.predict_proba('Barcelona', 'Atletico de Bilbao')"
   ]
  },
  {
   "cell_type": "code",
   "execution_count": 14,
   "metadata": {},
   "outputs": [
    {
     "output_type": "execute_result",
     "data": {
      "text/plain": [
       "'Barcelona'"
      ]
     },
     "metadata": {},
     "execution_count": 14
    }
   ],
   "source": [
    "model.predict_winner('Barcelona', 'Atletico de Bilbao')"
   ]
  },
  {
   "cell_type": "code",
   "execution_count": 15,
   "metadata": {},
   "outputs": [
    {
     "output_type": "execute_result",
     "data": {
      "text/plain": [
       "             Barcelona      draw  Atletico de Bilbao\n",
       "probability   0.534195  0.140028            0.325776"
      ],
      "text/html": "<div>\n<style scoped>\n    .dataframe tbody tr th:only-of-type {\n        vertical-align: middle;\n    }\n\n    .dataframe tbody tr th {\n        vertical-align: top;\n    }\n\n    .dataframe thead th {\n        text-align: right;\n    }\n</style>\n<table border=\"1\" class=\"dataframe\">\n  <thead>\n    <tr style=\"text-align: right;\">\n      <th></th>\n      <th>Barcelona</th>\n      <th>draw</th>\n      <th>Atletico de Bilbao</th>\n    </tr>\n  </thead>\n  <tbody>\n    <tr>\n      <th>probability</th>\n      <td>0.534195</td>\n      <td>0.140028</td>\n      <td>0.325776</td>\n    </tr>\n  </tbody>\n</table>\n</div>"
     },
     "metadata": {},
     "execution_count": 15
    }
   ],
   "source": [
    "model.predict_proba('Atletico de Bilbao', 'Barcelona')"
   ]
  },
  {
   "cell_type": "code",
   "execution_count": 16,
   "metadata": {},
   "outputs": [
    {
     "output_type": "execute_result",
     "data": {
      "text/plain": [
       "'Barcelona'"
      ]
     },
     "metadata": {},
     "execution_count": 16
    }
   ],
   "source": [
    "model.predict_winner('Atletico de Bilbao', 'Barcelona', )"
   ]
  },
  {
   "cell_type": "code",
   "execution_count": 17,
   "metadata": {},
   "outputs": [],
   "source": [
    "coefs = model.get_coef()"
   ]
  },
  {
   "cell_type": "code",
   "execution_count": 18,
   "metadata": {},
   "outputs": [
    {
     "output_type": "execute_result",
     "data": {
      "text/plain": [
       "                         away wins      draw  home wins\n",
       "home_Alaves              -0.441170 -0.362029  -0.189250\n",
       "home_Albacete             0.052886  0.025916  -1.054371\n",
       "home_Alcorcon             0.614489 -0.825257  -0.853375\n",
       "home_Almeria             -0.292885 -0.701416  -0.067901\n",
       "home_Atletico de Bilbao  -0.468034 -1.004300   0.389299"
      ],
      "text/html": "<div>\n<style scoped>\n    .dataframe tbody tr th:only-of-type {\n        vertical-align: middle;\n    }\n\n    .dataframe tbody tr th {\n        vertical-align: top;\n    }\n\n    .dataframe thead th {\n        text-align: right;\n    }\n</style>\n<table border=\"1\" class=\"dataframe\">\n  <thead>\n    <tr style=\"text-align: right;\">\n      <th></th>\n      <th>away wins</th>\n      <th>draw</th>\n      <th>home wins</th>\n    </tr>\n  </thead>\n  <tbody>\n    <tr>\n      <th>home_Alaves</th>\n      <td>-0.441170</td>\n      <td>-0.362029</td>\n      <td>-0.189250</td>\n    </tr>\n    <tr>\n      <th>home_Albacete</th>\n      <td>0.052886</td>\n      <td>0.025916</td>\n      <td>-1.054371</td>\n    </tr>\n    <tr>\n      <th>home_Alcorcon</th>\n      <td>0.614489</td>\n      <td>-0.825257</td>\n      <td>-0.853375</td>\n    </tr>\n    <tr>\n      <th>home_Almeria</th>\n      <td>-0.292885</td>\n      <td>-0.701416</td>\n      <td>-0.067901</td>\n    </tr>\n    <tr>\n      <th>home_Atletico de Bilbao</th>\n      <td>-0.468034</td>\n      <td>-1.004300</td>\n      <td>0.389299</td>\n    </tr>\n  </tbody>\n</table>\n</div>"
     },
     "metadata": {},
     "execution_count": 18
    }
   ],
   "source": [
    "coefs.head()"
   ]
  },
  {
   "cell_type": "code",
   "execution_count": 19,
   "metadata": {},
   "outputs": [
    {
     "output_type": "execute_result",
     "data": {
      "text/plain": [
       "                away wins      draw  home wins\n",
       "away_Barcelona   0.723668 -0.748245  -1.036212"
      ],
      "text/html": "<div>\n<style scoped>\n    .dataframe tbody tr th:only-of-type {\n        vertical-align: middle;\n    }\n\n    .dataframe tbody tr th {\n        vertical-align: top;\n    }\n\n    .dataframe thead th {\n        text-align: right;\n    }\n</style>\n<table border=\"1\" class=\"dataframe\">\n  <thead>\n    <tr style=\"text-align: right;\">\n      <th></th>\n      <th>away wins</th>\n      <th>draw</th>\n      <th>home wins</th>\n    </tr>\n  </thead>\n  <tbody>\n    <tr>\n      <th>away_Barcelona</th>\n      <td>0.723668</td>\n      <td>-0.748245</td>\n      <td>-1.036212</td>\n    </tr>\n  </tbody>\n</table>\n</div>"
     },
     "metadata": {},
     "execution_count": 19
    }
   ],
   "source": [
    "coefs.loc['away_Barcelona']"
   ]
  },
  {
   "cell_type": "code",
   "execution_count": 20,
   "metadata": {},
   "outputs": [
    {
     "output_type": "execute_result",
     "data": {
      "text/plain": [
       "                         away wins    draw  home wins\n",
       "home_Atletico de Bilbao  -0.468034 -1.0043   0.389299"
      ],
      "text/html": "<div>\n<style scoped>\n    .dataframe tbody tr th:only-of-type {\n        vertical-align: middle;\n    }\n\n    .dataframe tbody tr th {\n        vertical-align: top;\n    }\n\n    .dataframe thead th {\n        text-align: right;\n    }\n</style>\n<table border=\"1\" class=\"dataframe\">\n  <thead>\n    <tr style=\"text-align: right;\">\n      <th></th>\n      <th>away wins</th>\n      <th>draw</th>\n      <th>home wins</th>\n    </tr>\n  </thead>\n  <tbody>\n    <tr>\n      <th>home_Atletico de Bilbao</th>\n      <td>-0.468034</td>\n      <td>-1.0043</td>\n      <td>0.389299</td>\n    </tr>\n  </tbody>\n</table>\n</div>"
     },
     "metadata": {},
     "execution_count": 20
    }
   ],
   "source": [
    "coefs.loc['home_Atletico de Bilbao']"
   ]
  },
  {
   "cell_type": "code",
   "execution_count": 21,
   "metadata": {},
   "outputs": [
    {
     "output_type": "execute_result",
     "data": {
      "text/plain": [
       "                away wins      draw  home wins\n",
       "home_Barcelona  -1.797002 -1.013848   1.439541"
      ],
      "text/html": "<div>\n<style scoped>\n    .dataframe tbody tr th:only-of-type {\n        vertical-align: middle;\n    }\n\n    .dataframe tbody tr th {\n        vertical-align: top;\n    }\n\n    .dataframe thead th {\n        text-align: right;\n    }\n</style>\n<table border=\"1\" class=\"dataframe\">\n  <thead>\n    <tr style=\"text-align: right;\">\n      <th></th>\n      <th>away wins</th>\n      <th>draw</th>\n      <th>home wins</th>\n    </tr>\n  </thead>\n  <tbody>\n    <tr>\n      <th>home_Barcelona</th>\n      <td>-1.797002</td>\n      <td>-1.013848</td>\n      <td>1.439541</td>\n    </tr>\n  </tbody>\n</table>\n</div>"
     },
     "metadata": {},
     "execution_count": 21
    }
   ],
   "source": [
    "coefs.loc['home_Barcelona']"
   ]
  },
  {
   "cell_type": "code",
   "execution_count": 22,
   "metadata": {},
   "outputs": [
    {
     "output_type": "execute_result",
     "data": {
      "text/plain": [
       "                  away wins     draw  home wins\n",
       "away_Real Madrid    0.98434 -0.35328  -1.762583"
      ],
      "text/html": "<div>\n<style scoped>\n    .dataframe tbody tr th:only-of-type {\n        vertical-align: middle;\n    }\n\n    .dataframe tbody tr th {\n        vertical-align: top;\n    }\n\n    .dataframe thead th {\n        text-align: right;\n    }\n</style>\n<table border=\"1\" class=\"dataframe\">\n  <thead>\n    <tr style=\"text-align: right;\">\n      <th></th>\n      <th>away wins</th>\n      <th>draw</th>\n      <th>home wins</th>\n    </tr>\n  </thead>\n  <tbody>\n    <tr>\n      <th>away_Real Madrid</th>\n      <td>0.98434</td>\n      <td>-0.35328</td>\n      <td>-1.762583</td>\n    </tr>\n  </tbody>\n</table>\n</div>"
     },
     "metadata": {},
     "execution_count": 22
    }
   ],
   "source": [
    "coefs.loc['away_Real Madrid']"
   ]
  },
  {
   "cell_type": "code",
   "execution_count": 23,
   "metadata": {},
   "outputs": [
    {
     "output_type": "execute_result",
     "data": {
      "text/plain": [
       "                         away wins    draw  home wins\n",
       "home_Atletico de Bilbao  -0.468034 -1.0043   0.389299"
      ],
      "text/html": "<div>\n<style scoped>\n    .dataframe tbody tr th:only-of-type {\n        vertical-align: middle;\n    }\n\n    .dataframe tbody tr th {\n        vertical-align: top;\n    }\n\n    .dataframe thead th {\n        text-align: right;\n    }\n</style>\n<table border=\"1\" class=\"dataframe\">\n  <thead>\n    <tr style=\"text-align: right;\">\n      <th></th>\n      <th>away wins</th>\n      <th>draw</th>\n      <th>home wins</th>\n    </tr>\n  </thead>\n  <tbody>\n    <tr>\n      <th>home_Atletico de Bilbao</th>\n      <td>-0.468034</td>\n      <td>-1.0043</td>\n      <td>0.389299</td>\n    </tr>\n  </tbody>\n</table>\n</div>"
     },
     "metadata": {},
     "execution_count": 23
    }
   ],
   "source": [
    "coefs.loc['home_Atletico de Bilbao']"
   ]
  },
  {
   "cell_type": "code",
   "execution_count": 24,
   "metadata": {},
   "outputs": [
    {
     "output_type": "execute_result",
     "data": {
      "text/plain": [
       "                         away wins      draw  home wins\n",
       "away_Atletico de Bilbao  -0.689353  0.027985  -0.411139"
      ],
      "text/html": "<div>\n<style scoped>\n    .dataframe tbody tr th:only-of-type {\n        vertical-align: middle;\n    }\n\n    .dataframe tbody tr th {\n        vertical-align: top;\n    }\n\n    .dataframe thead th {\n        text-align: right;\n    }\n</style>\n<table border=\"1\" class=\"dataframe\">\n  <thead>\n    <tr style=\"text-align: right;\">\n      <th></th>\n      <th>away wins</th>\n      <th>draw</th>\n      <th>home wins</th>\n    </tr>\n  </thead>\n  <tbody>\n    <tr>\n      <th>away_Atletico de Bilbao</th>\n      <td>-0.689353</td>\n      <td>0.027985</td>\n      <td>-0.411139</td>\n    </tr>\n  </tbody>\n</table>\n</div>"
     },
     "metadata": {},
     "execution_count": 24
    }
   ],
   "source": [
    "coefs.loc['away_Atletico de Bilbao']"
   ]
  },
  {
   "cell_type": "code",
   "execution_count": 25,
   "metadata": {},
   "outputs": [
    {
     "output_type": "execute_result",
     "data": {
      "text/plain": [
       "                away wins      draw  home wins\n",
       "away_Barcelona   0.723668 -0.748245  -1.036212"
      ],
      "text/html": "<div>\n<style scoped>\n    .dataframe tbody tr th:only-of-type {\n        vertical-align: middle;\n    }\n\n    .dataframe tbody tr th {\n        vertical-align: top;\n    }\n\n    .dataframe thead th {\n        text-align: right;\n    }\n</style>\n<table border=\"1\" class=\"dataframe\">\n  <thead>\n    <tr style=\"text-align: right;\">\n      <th></th>\n      <th>away wins</th>\n      <th>draw</th>\n      <th>home wins</th>\n    </tr>\n  </thead>\n  <tbody>\n    <tr>\n      <th>away_Barcelona</th>\n      <td>0.723668</td>\n      <td>-0.748245</td>\n      <td>-1.036212</td>\n    </tr>\n  </tbody>\n</table>\n</div>"
     },
     "metadata": {},
     "execution_count": 25
    }
   ],
   "source": [
    "coefs.loc['away_Barcelona']"
   ]
  },
  {
   "cell_type": "code",
   "execution_count": 26,
   "metadata": {},
   "outputs": [
    {
     "output_type": "execute_result",
     "data": {
      "text/plain": [
       "pandas.core.frame.DataFrame"
      ]
     },
     "metadata": {},
     "execution_count": 26
    }
   ],
   "source": [
    "type(coefs.loc['away_Barcelona'])"
   ]
  },
  {
   "cell_type": "code",
   "execution_count": 27,
   "metadata": {},
   "outputs": [
    {
     "output_type": "execute_result",
     "data": {
      "text/plain": [
       "away_Barcelona    0.723668\n",
       "Name: away wins, dtype: float64"
      ]
     },
     "metadata": {},
     "execution_count": 27
    }
   ],
   "source": [
    "coefs.loc['away_Barcelona']['away wins']"
   ]
  },
  {
   "cell_type": "code",
   "execution_count": 28,
   "metadata": {},
   "outputs": [
    {
     "output_type": "stream",
     "name": "stdout",
     "text": [
      "0.7236678113885112\n-0.7482449972391303\n-1.0362115151315918\n"
     ]
    }
   ],
   "source": [
    "print(coefs.loc['away_Barcelona']['away wins'][0])\n",
    "print(coefs.loc['away_Barcelona']['draw'][0])\n",
    "print(coefs.loc['away_Barcelona']['home wins'][0])"
   ]
  },
  {
   "cell_type": "code",
   "execution_count": 29,
   "metadata": {},
   "outputs": [
    {
     "output_type": "execute_result",
     "data": {
      "text/plain": [
       "numpy.float64"
      ]
     },
     "metadata": {},
     "execution_count": 29
    }
   ],
   "source": [
    "type(coefs.loc['away_Barcelona']['away wins'][0])"
   ]
  },
  {
   "source": [
    "## Obtener probabilidades Casas de Apuestas"
   ],
   "cell_type": "markdown",
   "metadata": {}
  },
  {
   "cell_type": "code",
   "execution_count": 30,
   "metadata": {},
   "outputs": [
    {
     "output_type": "stream",
     "name": "stdout",
     "text": [
      "[0.15500646 0.2180107  0.62698284]\n[0.16320622 0.22343708 0.6133567 ]\n[0.15204536 0.21622755 0.63172709]\n[0.15271821 0.21401535 0.63326645]\n"
     ]
    }
   ],
   "source": [
    "probs = ImpliedProbability()\n",
    "probs_mul = ImpliedProbability('multiplicative')\n",
    "probs_add = ImpliedProbability('additive')\n",
    "probs_pow = ImpliedProbability('power')\n",
    "print(probs.convert(5.75, 4.20, 1.53).implied_probabilities)\n",
    "print(probs_mul.convert(5.75, 4.20, 1.53).implied_probabilities)\n",
    "print(probs_add.convert(5.75, 4.20, 1.53).implied_probabilities)\n",
    "print(probs_pow.convert(5.75, 4.20, 1.53).implied_probabilities)"
   ]
  },
  {
   "cell_type": "code",
   "execution_count": 31,
   "metadata": {},
   "outputs": [
    {
     "output_type": "execute_result",
     "data": {
      "text/plain": [
       "array([0.17132532, 0.22978496, 0.59888973])"
      ]
     },
     "metadata": {},
     "execution_count": 31
    }
   ],
   "source": [
    "probs.convert(5.25, 4.00, 1.60).implied_probabilities"
   ]
  },
  {
   "cell_type": "code",
   "execution_count": 32,
   "metadata": {},
   "outputs": [
    {
     "output_type": "execute_result",
     "data": {
      "text/plain": [
       "array([0.1618835 , 0.22876829, 0.60934822])"
      ]
     },
     "metadata": {},
     "execution_count": 32
    }
   ],
   "source": [
    "probs.convert(5.50, 4.00, 1.57).implied_probabilities"
   ]
  },
  {
   "cell_type": "code",
   "execution_count": 33,
   "metadata": {},
   "outputs": [
    {
     "output_type": "execute_result",
     "data": {
      "text/plain": [
       "array([0.55120443, 0.25386094, 0.19493462])"
      ]
     },
     "metadata": {},
     "execution_count": 33
    }
   ],
   "source": [
    "probs.convert(1.75, 3.70, 4.75).implied_probabilities"
   ]
  }
 ]
}