{
 "metadata": {
  "language_info": {
   "codemirror_mode": {
    "name": "ipython",
    "version": 3
   },
   "file_extension": ".py",
   "mimetype": "text/x-python",
   "name": "python",
   "nbconvert_exporter": "python",
   "pygments_lexer": "ipython3",
   "version": "3.7.9"
  },
  "orig_nbformat": 2,
  "kernelspec": {
   "name": "python379jvsc74a57bd06bb39cf701e69f44254490007d8f940a839a2b734cfff6b86116ca9f2e63ea94",
   "display_name": "Python 3.7.9 64-bit ('fastai': conda)"
  }
 },
 "nbformat": 4,
 "nbformat_minor": 2,
 "cells": [
  {
   "source": [
    "# [Building a Simple Football Prediction Model](https://medium.com/geekculture/building-a-simple-football-prediction-model-using-machine-learning-f061e607bec5)"
   ],
   "cell_type": "markdown",
   "metadata": {}
  },
  {
   "cell_type": "code",
   "execution_count": 62,
   "metadata": {},
   "outputs": [],
   "source": [
    "import warnings\n",
    "warnings.filterwarnings('ignore')\n",
    "\n",
    "import sqlite3\n",
    "import pandas as pd\n",
    "from datetime import *\n",
    "import numpy as np\n",
    "from sklearn.preprocessing import OneHotEncoder\n",
    "from logistic_model import LogisticRegression, LogisticModel\n",
    "from implied import ImpliedProbability"
   ]
  },
  {
   "cell_type": "code",
   "execution_count": 2,
   "metadata": {},
   "outputs": [],
   "source": [
    "def connect_database(db):\n",
    "    con = sqlite3.connect(db)\n",
    "    cursor = con.cursor()\n",
    "    return cursor, con\n",
    "\n",
    "\n",
    "def leer_partidos(con):\n",
    "    partidos = pd.read_sql_query('SELECT * FROM partidos', con) #, index_col='fecha')\n",
    "    return partidos\n",
    "\n",
    "cur, con = connect_database('../../Clasificacion.v2.db')\n",
    "\n",
    "partidos = leer_partidos(con)"
   ]
  },
  {
   "cell_type": "code",
   "execution_count": 5,
   "metadata": {},
   "outputs": [],
   "source": [
    "partidos['timestamp'] = partidos['timestamp'].map(lambda X: datetime.fromtimestamp(int(X)).date())\n",
    "partidos['fecha'] = partidos['timestamp']"
   ]
  },
  {
   "cell_type": "code",
   "execution_count": 6,
   "metadata": {},
   "outputs": [],
   "source": [
    "partidos = partidos.sort_values(by='fecha')\n",
    "#partidos = partidos[partidos['division'] == 1]\n",
    "partidos = partidos[partidos['fecha'] > date(2017, 8, 1)]\n",
    "#partidos = partidos[partidos['resultado'] < 1]"
   ]
  },
  {
   "cell_type": "code",
   "execution_count": 10,
   "metadata": {},
   "outputs": [],
   "source": [
    "match = partidos.filter(['equipo_local', 'equipo_visitante', 'goles_local', 'goles_visitante'])"
   ]
  },
  {
   "cell_type": "code",
   "execution_count": 11,
   "metadata": {},
   "outputs": [],
   "source": [
    "equipos = match['equipo_local'].unique()"
   ]
  },
  {
   "cell_type": "code",
   "execution_count": 12,
   "metadata": {},
   "outputs": [
    {
     "output_type": "execute_result",
     "data": {
      "text/plain": [
       "array(['Tenerife', 'Lorca FC', 'Leganes', 'Valencia', 'Alcorcon',\n",
       "       'Cordoba', 'Osasuna', 'Numancia', 'Valladolid', 'Sevilla',\n",
       "       'Girona', 'Celta', 'Barcelona', 'Atletico de Bilbao', 'Deportivo',\n",
       "       'Oviedo', 'Granada', 'Gimnastic de Tarragona', 'Malaga', 'Levante',\n",
       "       'Lugo', 'Betis', 'Real Sociedad', 'Albacete', 'Sevilla Atletico',\n",
       "       'Las Palmas', 'Alaves', 'Almeria', 'Rayo Vallecano',\n",
       "       'Cultural Leonesa', 'Huesca', 'Getafe', 'Real Madrid', 'Espanol',\n",
       "       'Eibar', 'Cadiz', 'Zaragoza', 'Reus', 'Sporting de Gijon',\n",
       "       'Barcelona B', 'Villarreal', 'Atletico de Madrid', 'Elche',\n",
       "       'Mallorca', 'Extremadura', 'Rayo Majadahonda', 'Racing',\n",
       "       'Mirandes', 'Ponferradina', 'Fuenlabrada', 'Cd-Castellon',\n",
       "       'Cartagena', 'Ud-Logrones', 'Sabadell'], dtype=object)"
      ]
     },
     "metadata": {},
     "execution_count": 12
    }
   ],
   "source": [
    "match.head"
   ]
  },
  {
   "source": [
    "## Calcular Ganador y Probabilidades"
   ],
   "cell_type": "markdown",
   "metadata": {}
  },
  {
   "cell_type": "code",
   "execution_count": 21,
   "metadata": {},
   "outputs": [],
   "source": [
    "model = LogisticModel()\n",
    "\n",
    "model.fit(match['equipo_local'],match['equipo_visitante'],match['goles_local'],match['goles_visitante'])"
   ]
  },
  {
   "cell_type": "code",
   "execution_count": 22,
   "metadata": {},
   "outputs": [
    {
     "output_type": "execute_result",
     "data": {
      "text/plain": [
       "             Atletico de Bilbao      draw  Barcelona\n",
       "probability             0.04722  0.224476   0.728305"
      ],
      "text/html": "<div>\n<style scoped>\n    .dataframe tbody tr th:only-of-type {\n        vertical-align: middle;\n    }\n\n    .dataframe tbody tr th {\n        vertical-align: top;\n    }\n\n    .dataframe thead th {\n        text-align: right;\n    }\n</style>\n<table border=\"1\" class=\"dataframe\">\n  <thead>\n    <tr style=\"text-align: right;\">\n      <th></th>\n      <th>Atletico de Bilbao</th>\n      <th>draw</th>\n      <th>Barcelona</th>\n    </tr>\n  </thead>\n  <tbody>\n    <tr>\n      <th>probability</th>\n      <td>0.04722</td>\n      <td>0.224476</td>\n      <td>0.728305</td>\n    </tr>\n  </tbody>\n</table>\n</div>"
     },
     "metadata": {},
     "execution_count": 22
    }
   ],
   "source": [
    "model.predict_proba('Barcelona', 'Atletico de Bilbao')"
   ]
  },
  {
   "cell_type": "code",
   "execution_count": 23,
   "metadata": {},
   "outputs": [
    {
     "output_type": "execute_result",
     "data": {
      "text/plain": [
       "'Barcelona'"
      ]
     },
     "metadata": {},
     "execution_count": 23
    }
   ],
   "source": [
    "model.predict_winner('Barcelona', 'Atletico de Bilbao')"
   ]
  },
  {
   "cell_type": "code",
   "execution_count": 24,
   "metadata": {},
   "outputs": [
    {
     "output_type": "execute_result",
     "data": {
      "text/plain": [
       "             Barcelona      draw  Atletico de Bilbao\n",
       "probability   0.519797  0.311126            0.169077"
      ],
      "text/html": "<div>\n<style scoped>\n    .dataframe tbody tr th:only-of-type {\n        vertical-align: middle;\n    }\n\n    .dataframe tbody tr th {\n        vertical-align: top;\n    }\n\n    .dataframe thead th {\n        text-align: right;\n    }\n</style>\n<table border=\"1\" class=\"dataframe\">\n  <thead>\n    <tr style=\"text-align: right;\">\n      <th></th>\n      <th>Barcelona</th>\n      <th>draw</th>\n      <th>Atletico de Bilbao</th>\n    </tr>\n  </thead>\n  <tbody>\n    <tr>\n      <th>probability</th>\n      <td>0.519797</td>\n      <td>0.311126</td>\n      <td>0.169077</td>\n    </tr>\n  </tbody>\n</table>\n</div>"
     },
     "metadata": {},
     "execution_count": 24
    }
   ],
   "source": [
    "model.predict_proba('Atletico de Bilbao', 'Barcelona', )"
   ]
  },
  {
   "cell_type": "code",
   "execution_count": 25,
   "metadata": {},
   "outputs": [
    {
     "output_type": "execute_result",
     "data": {
      "text/plain": [
       "'Barcelona'"
      ]
     },
     "metadata": {},
     "execution_count": 25
    }
   ],
   "source": [
    "model.predict_winner('Atletico de Bilbao', 'Barcelona', )"
   ]
  },
  {
   "cell_type": "code",
   "execution_count": 35,
   "metadata": {},
   "outputs": [
    {
     "output_type": "execute_result",
     "data": {
      "text/plain": [
       "                         away wins      draw  home wins\n",
       "home_Alaves              -0.578817 -0.606291   0.106665\n",
       "home_Albacete            -0.170786 -0.002540  -0.807630\n",
       "home_Alcorcon             0.094411 -0.407084  -0.659266\n",
       "home_Almeria             -0.414674 -0.428499  -0.197040\n",
       "home_Atletico de Bilbao  -1.155807 -0.294518   0.324450\n",
       "...                            ...       ...        ...\n",
       "away_Ud-Logrones         -0.650414 -0.349721   0.082864\n",
       "away_Valencia             0.125722 -0.451196  -0.643834\n",
       "away_Valladolid          -0.485941 -0.113341  -0.479335\n",
       "away_Villarreal           0.423085 -0.463079  -0.902529\n",
       "away_Zaragoza            -0.411943 -0.757021   0.068396\n",
       "\n",
       "[108 rows x 3 columns]"
      ],
      "text/html": "<div>\n<style scoped>\n    .dataframe tbody tr th:only-of-type {\n        vertical-align: middle;\n    }\n\n    .dataframe tbody tr th {\n        vertical-align: top;\n    }\n\n    .dataframe thead th {\n        text-align: right;\n    }\n</style>\n<table border=\"1\" class=\"dataframe\">\n  <thead>\n    <tr style=\"text-align: right;\">\n      <th></th>\n      <th>away wins</th>\n      <th>draw</th>\n      <th>home wins</th>\n    </tr>\n  </thead>\n  <tbody>\n    <tr>\n      <th>home_Alaves</th>\n      <td>-0.578817</td>\n      <td>-0.606291</td>\n      <td>0.106665</td>\n    </tr>\n    <tr>\n      <th>home_Albacete</th>\n      <td>-0.170786</td>\n      <td>-0.002540</td>\n      <td>-0.807630</td>\n    </tr>\n    <tr>\n      <th>home_Alcorcon</th>\n      <td>0.094411</td>\n      <td>-0.407084</td>\n      <td>-0.659266</td>\n    </tr>\n    <tr>\n      <th>home_Almeria</th>\n      <td>-0.414674</td>\n      <td>-0.428499</td>\n      <td>-0.197040</td>\n    </tr>\n    <tr>\n      <th>home_Atletico de Bilbao</th>\n      <td>-1.155807</td>\n      <td>-0.294518</td>\n      <td>0.324450</td>\n    </tr>\n    <tr>\n      <th>...</th>\n      <td>...</td>\n      <td>...</td>\n      <td>...</td>\n    </tr>\n    <tr>\n      <th>away_Ud-Logrones</th>\n      <td>-0.650414</td>\n      <td>-0.349721</td>\n      <td>0.082864</td>\n    </tr>\n    <tr>\n      <th>away_Valencia</th>\n      <td>0.125722</td>\n      <td>-0.451196</td>\n      <td>-0.643834</td>\n    </tr>\n    <tr>\n      <th>away_Valladolid</th>\n      <td>-0.485941</td>\n      <td>-0.113341</td>\n      <td>-0.479335</td>\n    </tr>\n    <tr>\n      <th>away_Villarreal</th>\n      <td>0.423085</td>\n      <td>-0.463079</td>\n      <td>-0.902529</td>\n    </tr>\n    <tr>\n      <th>away_Zaragoza</th>\n      <td>-0.411943</td>\n      <td>-0.757021</td>\n      <td>0.068396</td>\n    </tr>\n  </tbody>\n</table>\n<p>108 rows × 3 columns</p>\n</div>"
     },
     "metadata": {},
     "execution_count": 35
    }
   ],
   "source": [
    "model.get_coef()"
   ]
  },
  {
   "cell_type": "code",
   "execution_count": 50,
   "metadata": {},
   "outputs": [
    {
     "output_type": "execute_result",
     "data": {
      "text/plain": [
       "                away wins      draw  home wins\n",
       "home_Barcelona  -2.520553 -1.153776   1.842495"
      ],
      "text/html": "<div>\n<style scoped>\n    .dataframe tbody tr th:only-of-type {\n        vertical-align: middle;\n    }\n\n    .dataframe tbody tr th {\n        vertical-align: top;\n    }\n\n    .dataframe thead th {\n        text-align: right;\n    }\n</style>\n<table border=\"1\" class=\"dataframe\">\n  <thead>\n    <tr style=\"text-align: right;\">\n      <th></th>\n      <th>away wins</th>\n      <th>draw</th>\n      <th>home wins</th>\n    </tr>\n  </thead>\n  <tbody>\n    <tr>\n      <th>home_Barcelona</th>\n      <td>-2.520553</td>\n      <td>-1.153776</td>\n      <td>1.842495</td>\n    </tr>\n  </tbody>\n</table>\n</div>"
     },
     "metadata": {},
     "execution_count": 50
    }
   ],
   "source": [
    "model.get_coef().loc['home_Barcelona']"
   ]
  },
  {
   "cell_type": "code",
   "execution_count": 51,
   "metadata": {},
   "outputs": [
    {
     "output_type": "execute_result",
     "data": {
      "text/plain": [
       "                away wins      draw  home wins\n",
       "away_Barcelona   1.257917 -0.484447  -1.903471"
      ],
      "text/html": "<div>\n<style scoped>\n    .dataframe tbody tr th:only-of-type {\n        vertical-align: middle;\n    }\n\n    .dataframe tbody tr th {\n        vertical-align: top;\n    }\n\n    .dataframe thead th {\n        text-align: right;\n    }\n</style>\n<table border=\"1\" class=\"dataframe\">\n  <thead>\n    <tr style=\"text-align: right;\">\n      <th></th>\n      <th>away wins</th>\n      <th>draw</th>\n      <th>home wins</th>\n    </tr>\n  </thead>\n  <tbody>\n    <tr>\n      <th>away_Barcelona</th>\n      <td>1.257917</td>\n      <td>-0.484447</td>\n      <td>-1.903471</td>\n    </tr>\n  </tbody>\n</table>\n</div>"
     },
     "metadata": {},
     "execution_count": 51
    }
   ],
   "source": [
    "model.get_coef().loc['away_Barcelona']"
   ]
  },
  {
   "cell_type": "code",
   "execution_count": 54,
   "metadata": {},
   "outputs": [
    {
     "output_type": "execute_result",
     "data": {
      "text/plain": [
       "                  away wins      draw  home wins\n",
       "home_Real Madrid  -1.559612 -1.348904   1.446553"
      ],
      "text/html": "<div>\n<style scoped>\n    .dataframe tbody tr th:only-of-type {\n        vertical-align: middle;\n    }\n\n    .dataframe tbody tr th {\n        vertical-align: top;\n    }\n\n    .dataframe thead th {\n        text-align: right;\n    }\n</style>\n<table border=\"1\" class=\"dataframe\">\n  <thead>\n    <tr style=\"text-align: right;\">\n      <th></th>\n      <th>away wins</th>\n      <th>draw</th>\n      <th>home wins</th>\n    </tr>\n  </thead>\n  <tbody>\n    <tr>\n      <th>home_Real Madrid</th>\n      <td>-1.559612</td>\n      <td>-1.348904</td>\n      <td>1.446553</td>\n    </tr>\n  </tbody>\n</table>\n</div>"
     },
     "metadata": {},
     "execution_count": 54
    }
   ],
   "source": [
    "model.get_coef().loc['home_Real Madrid']"
   ]
  },
  {
   "cell_type": "code",
   "execution_count": 55,
   "metadata": {},
   "outputs": [
    {
     "output_type": "execute_result",
     "data": {
      "text/plain": [
       "                  away wins      draw  home wins\n",
       "away_Real Madrid   1.082021 -0.360532  -1.772322"
      ],
      "text/html": "<div>\n<style scoped>\n    .dataframe tbody tr th:only-of-type {\n        vertical-align: middle;\n    }\n\n    .dataframe tbody tr th {\n        vertical-align: top;\n    }\n\n    .dataframe thead th {\n        text-align: right;\n    }\n</style>\n<table border=\"1\" class=\"dataframe\">\n  <thead>\n    <tr style=\"text-align: right;\">\n      <th></th>\n      <th>away wins</th>\n      <th>draw</th>\n      <th>home wins</th>\n    </tr>\n  </thead>\n  <tbody>\n    <tr>\n      <th>away_Real Madrid</th>\n      <td>1.082021</td>\n      <td>-0.360532</td>\n      <td>-1.772322</td>\n    </tr>\n  </tbody>\n</table>\n</div>"
     },
     "metadata": {},
     "execution_count": 55
    }
   ],
   "source": [
    "model.get_coef().loc['away_Real Madrid']"
   ]
  },
  {
   "cell_type": "code",
   "execution_count": 58,
   "metadata": {},
   "outputs": [
    {
     "output_type": "execute_result",
     "data": {
      "text/plain": [
       "                         away wins      draw  home wins\n",
       "home_Atletico de Bilbao  -1.155807 -0.294518    0.32445"
      ],
      "text/html": "<div>\n<style scoped>\n    .dataframe tbody tr th:only-of-type {\n        vertical-align: middle;\n    }\n\n    .dataframe tbody tr th {\n        vertical-align: top;\n    }\n\n    .dataframe thead th {\n        text-align: right;\n    }\n</style>\n<table border=\"1\" class=\"dataframe\">\n  <thead>\n    <tr style=\"text-align: right;\">\n      <th></th>\n      <th>away wins</th>\n      <th>draw</th>\n      <th>home wins</th>\n    </tr>\n  </thead>\n  <tbody>\n    <tr>\n      <th>home_Atletico de Bilbao</th>\n      <td>-1.155807</td>\n      <td>-0.294518</td>\n      <td>0.32445</td>\n    </tr>\n  </tbody>\n</table>\n</div>"
     },
     "metadata": {},
     "execution_count": 58
    }
   ],
   "source": [
    "model.get_coef().loc['home_Atletico de Bilbao']"
   ]
  },
  {
   "cell_type": "code",
   "execution_count": 57,
   "metadata": {},
   "outputs": [
    {
     "output_type": "execute_result",
     "data": {
      "text/plain": [
       "                         away wins      draw  home wins\n",
       "away_Atletico de Bilbao  -0.420754 -0.007689  -0.614396"
      ],
      "text/html": "<div>\n<style scoped>\n    .dataframe tbody tr th:only-of-type {\n        vertical-align: middle;\n    }\n\n    .dataframe tbody tr th {\n        vertical-align: top;\n    }\n\n    .dataframe thead th {\n        text-align: right;\n    }\n</style>\n<table border=\"1\" class=\"dataframe\">\n  <thead>\n    <tr style=\"text-align: right;\">\n      <th></th>\n      <th>away wins</th>\n      <th>draw</th>\n      <th>home wins</th>\n    </tr>\n  </thead>\n  <tbody>\n    <tr>\n      <th>away_Atletico de Bilbao</th>\n      <td>-0.420754</td>\n      <td>-0.007689</td>\n      <td>-0.614396</td>\n    </tr>\n  </tbody>\n</table>\n</div>"
     },
     "metadata": {},
     "execution_count": 57
    }
   ],
   "source": [
    "model.get_coef().loc['away_Atletico de Bilbao']"
   ]
  },
  {
   "cell_type": "code",
   "execution_count": 59,
   "metadata": {},
   "outputs": [
    {
     "output_type": "execute_result",
     "data": {
      "text/plain": [
       "                away wins      draw  home wins\n",
       "away_Barcelona   1.257917 -0.484447  -1.903471"
      ],
      "text/html": "<div>\n<style scoped>\n    .dataframe tbody tr th:only-of-type {\n        vertical-align: middle;\n    }\n\n    .dataframe tbody tr th {\n        vertical-align: top;\n    }\n\n    .dataframe thead th {\n        text-align: right;\n    }\n</style>\n<table border=\"1\" class=\"dataframe\">\n  <thead>\n    <tr style=\"text-align: right;\">\n      <th></th>\n      <th>away wins</th>\n      <th>draw</th>\n      <th>home wins</th>\n    </tr>\n  </thead>\n  <tbody>\n    <tr>\n      <th>away_Barcelona</th>\n      <td>1.257917</td>\n      <td>-0.484447</td>\n      <td>-1.903471</td>\n    </tr>\n  </tbody>\n</table>\n</div>"
     },
     "metadata": {},
     "execution_count": 59
    }
   ],
   "source": [
    "model.get_coef().loc['away_Barcelona']"
   ]
  },
  {
   "source": [
    "## Obtener probabilidades Casas de Apuestas"
   ],
   "cell_type": "markdown",
   "metadata": {}
  },
  {
   "cell_type": "code",
   "execution_count": 67,
   "metadata": {},
   "outputs": [
    {
     "output_type": "execute_result",
     "data": {
      "text/plain": [
       "array([0.15500646, 0.2180107 , 0.62698284])"
      ]
     },
     "metadata": {},
     "execution_count": 67
    }
   ],
   "source": [
    "probs = ImpliedProbability()\n",
    "probs.convert(5.75, 4.20, 1.53).implied_probabilities"
   ]
  }
 ]
}