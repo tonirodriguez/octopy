{
 "cells": [
  {
   "cell_type": "markdown",
   "metadata": {},
   "source": [
    "# Octopy Features Generation predicting the current matches\n",
    "\n",
    "Vamos a crear las features que me permite obtener Octopy estas son las siguientes:\n",
    "\n",
    "* Coefs para equipo local y visitante\n",
    "* Probs para equipo local y visitante"
   ]
  },
  {
   "cell_type": "code",
   "execution_count": 72,
   "metadata": {},
   "outputs": [],
   "source": [
    "import warnings\n",
    "warnings.filterwarnings('ignore')\n",
    "\n",
    "import sqlite3\n",
    "import pandas as pd\n",
    "import time\n",
    "from datetime import *\n",
    "import numpy as np\n",
    "from sklearn.preprocessing import OneHotEncoder\n",
    "from logistic_model import LogisticRegression, LogisticModel\n",
    "from implied import ImpliedProbability\n",
    "from sklearn.metrics import plot_confusion_matrix, accuracy_score"
   ]
  },
  {
   "cell_type": "code",
   "execution_count": 73,
   "metadata": {},
   "outputs": [],
   "source": [
    "def connect_database(db):\n",
    "    con = sqlite3.connect(db)\n",
    "    cursor = con.cursor()\n",
    "    return cursor, con\n",
    "\n",
    "\n",
    "def leer_partidos(con):\n",
    "    partidos = pd.read_sql_query('SELECT * FROM partidos', con) #, index_col='fecha')\n",
    "    return partidos\n",
    "\n",
    "cur, con = connect_database('../../Clasificacion.db')\n",
    "\n",
    "partidos = leer_partidos(con)"
   ]
  },
  {
   "cell_type": "code",
   "execution_count": 74,
   "metadata": {},
   "outputs": [],
   "source": [
    "partidos['fecha'] = partidos['timestamp'].map(lambda X: datetime.fromtimestamp(int(X)).date())\n",
    "#partidos['fecha'] = partidos['timestamp']\n",
    "\n",
    "#partidos['fecha'] = partidos['timestamp']\n",
    "#partidos['fecha'] = partidos['fecha'].map(lambda X: int(datetime.fromtimestamp(int(X)).date().strftime('%Y%m%d')))\n",
    "partidos = partidos.sort_values(by='fecha')"
   ]
  },
  {
   "cell_type": "code",
   "execution_count": 75,
   "metadata": {},
   "outputs": [],
   "source": [
    "part_test = partidos[partidos['fecha'] >= date(2021, 10, 23)]\n",
    "partidos = partidos[partidos.fecha < date(2021, 10, 23)]"
   ]
  },
  {
   "cell_type": "code",
   "execution_count": 78,
   "metadata": {},
   "outputs": [],
   "source": [
    "temporadas = partidos['temporada'].unique()\n",
    "dias = partidos['fecha'].unique()\n",
    "divisiones = partidos['division'].unique()"
   ]
  },
  {
   "cell_type": "code",
   "execution_count": 79,
   "metadata": {
    "tags": []
   },
   "outputs": [
    {
     "name": "stdout",
     "output_type": "stream",
     "text": [
      "1970-71 2\n",
      "1971-72 2\n",
      "1972-73 2\n",
      "1973-74 2\n",
      "1974-75 2\n",
      "1975-76 2\n",
      "1976-77 2\n",
      "1977-78 2\n",
      "1978-79 2\n",
      "1979-80 2\n",
      "1980-81 2\n",
      "1981-82 2\n",
      "1982-83 2\n",
      "1983-84 2\n",
      "1984-85 2\n",
      "1985-86 2\n",
      "1986-87 2\n",
      "1987-88 2\n",
      "1988-89 2\n",
      "1989-90 2\n",
      "1990-91 2\n",
      "1991-92 2\n",
      "1992-93 2\n",
      "1993-94 2\n",
      "1994-95 2\n",
      "1995-96 2\n",
      "1996-97 2\n",
      "1997-98 2\n",
      "1998-99 2\n",
      "1999-00 2\n",
      "2000-01 2\n",
      "2001-02 2\n",
      "2002-03 2\n",
      "2003-04 2\n",
      "2004-05 2\n",
      "2005-06 2\n",
      "2006-07 2\n",
      "2007-08 2\n",
      "2008-09 2\n",
      "2009-10 2\n",
      "2010-11 2\n",
      "2011-12 2\n",
      "2012-13 2\n",
      "2013-14 2\n",
      "2014-15 2\n",
      "2015-16 2\n",
      "2016-17 2\n",
      "2017-18 2\n",
      "2018-19 2\n",
      "2019-20 2\n",
      "2020-21 2\n",
      "2021-22 2\n",
      "1970-71 1\n",
      "1971-72 1\n",
      "1972-73 1\n",
      "1973-74 1\n",
      "1974-75 1\n",
      "1975-76 1\n",
      "1976-77 1\n",
      "1977-78 1\n",
      "1978-79 1\n",
      "1979-80 1\n",
      "1980-81 1\n",
      "1981-82 1\n",
      "1982-83 1\n",
      "1983-84 1\n",
      "1984-85 1\n",
      "1985-86 1\n",
      "1986-87 1\n",
      "1987-88 1\n",
      "1988-89 1\n",
      "1989-90 1\n",
      "1990-91 1\n",
      "1991-92 1\n",
      "1992-93 1\n",
      "1993-94 1\n",
      "1994-95 1\n",
      "1995-96 1\n",
      "1996-97 1\n",
      "1997-98 1\n",
      "1998-99 1\n",
      "1999-00 1\n",
      "2000-01 1\n",
      "2001-02 1\n",
      "2002-03 1\n",
      "2003-04 1\n",
      "2004-05 1\n",
      "2005-06 1\n",
      "2006-07 1\n",
      "2007-08 1\n",
      "2008-09 1\n",
      "2009-10 1\n",
      "2010-11 1\n",
      "2011-12 1\n",
      "2012-13 1\n",
      "2013-14 1\n",
      "2014-15 1\n",
      "2015-16 1\n",
      "2016-17 1\n",
      "2017-18 1\n",
      "2018-19 1\n",
      "2019-20 1\n",
      "2020-21 1\n",
      "2021-22 1\n"
     ]
    }
   ],
   "source": [
    "for div in divisiones:\n",
    "    partidos_div = partidos[partidos['division'] == div]\n",
    "\n",
    "    for temp in temporadas:\n",
    "        partidos_temp = partidos_div[partidos_div['temporada'] == temp]\n",
    "        equipos = partidos_temp['equipo_local'].unique()\n",
    "        dias = partidos_temp[partidos_temp['jornada'] > 2]['fecha'].unique()\n",
    "\n",
    "        for d in dias:\n",
    "            partidos_dia = partidos_temp[partidos_temp['fecha'] <= d]\n",
    "            model = LogisticModel()\n",
    "            model.fit(partidos_dia['equipo_local'],partidos_dia['equipo_visitante'],partidos_dia['goles_local'],partidos_dia['goles_visitante'])\n",
    "            coefs = model.get_coef()\n",
    "            partidos_hoy = partidos_dia[partidos_dia['fecha'] == d]\n",
    "            for index, row in partidos_hoy.iterrows():\n",
    "                partidos.at[partidos['id_partido'] == row.id_partido, 'local_home_wins'] = \\\n",
    "                    coefs.loc['home_'+row.equipo_local]['home wins'][0]\n",
    "                partidos.at[partidos['id_partido'] == row.id_partido, 'local_draw'] = \\\n",
    "                    coefs.loc['home_'+row.equipo_local]['draw'][0]\n",
    "                partidos.at[partidos['id_partido'] == row.id_partido, 'local_away_wins'] = \\\n",
    "                    coefs.loc['home_'+row.equipo_local]['away wins'][0]\n",
    "\n",
    "                partidos.at[partidos['id_partido'] == row.id_partido, 'visitante_home_wins'] = \\\n",
    "                    coefs.loc['away_'+row.equipo_local]['home wins'][0]\n",
    "                partidos.at[partidos['id_partido'] == row.id_partido, 'visitante_draw'] = \\\n",
    "                    coefs.loc['away_'+row.equipo_local]['draw'][0]\n",
    "                partidos.at[partidos['id_partido'] == row.id_partido, 'visitante_away_wins'] = \\\n",
    "                    coefs.loc['away_'+row.equipo_local]['away wins'][0]\n",
    "\n",
    "                partidos.at[partidos['id_partido'] == row.id_partido, 'probs_equipo_local'] = \\\n",
    "                    model.predict_proba(row.equipo_local, row.equipo_visitante)[row.equipo_local][0]\n",
    "                partidos.at[partidos['id_partido'] == row.id_partido, 'probs_equipo_visitante'] = \\\n",
    "                    model.predict_proba(row.equipo_local, row.equipo_visitante)[row.equipo_visitante][0]\n",
    "                partidos.at[partidos['id_partido'] == row.id_partido, 'probs_draw'] = \\\n",
    "                    model.predict_proba(row.equipo_local, row.equipo_visitante)['draw'][0]\n",
    "            if div == 1:\n",
    "                model1 = model\n",
    "                coefs1 = coefs\n",
    "            else:\n",
    "                model2 = model\n",
    "                coefs2 = coefs\n",
    "\n",
    "        print(temp + ' ' + str(div))\n"
   ]
  },
  {
   "cell_type": "code",
   "execution_count": 80,
   "metadata": {},
   "outputs": [],
   "source": [
    "partidos.to_csv('partidos_with_octopy_probabilites.csv')"
   ]
  },
  {
   "cell_type": "code",
   "execution_count": 81,
   "metadata": {},
   "outputs": [
    {
     "data": {
      "text/html": [
       "<div>\n",
       "<style scoped>\n",
       "    .dataframe tbody tr th:only-of-type {\n",
       "        vertical-align: middle;\n",
       "    }\n",
       "\n",
       "    .dataframe tbody tr th {\n",
       "        vertical-align: top;\n",
       "    }\n",
       "\n",
       "    .dataframe thead th {\n",
       "        text-align: right;\n",
       "    }\n",
       "</style>\n",
       "<table border=\"1\" class=\"dataframe\">\n",
       "  <thead>\n",
       "    <tr style=\"text-align: right;\">\n",
       "      <th></th>\n",
       "      <th>Valencia</th>\n",
       "      <th>draw</th>\n",
       "      <th>Barcelona</th>\n",
       "    </tr>\n",
       "  </thead>\n",
       "  <tbody>\n",
       "    <tr>\n",
       "      <th>probability</th>\n",
       "      <td>0.168004</td>\n",
       "      <td>0.295413</td>\n",
       "      <td>0.536584</td>\n",
       "    </tr>\n",
       "  </tbody>\n",
       "</table>\n",
       "</div>"
      ],
      "text/plain": [
       "             Valencia      draw  Barcelona\n",
       "probability  0.168004  0.295413   0.536584"
      ]
     },
     "execution_count": 81,
     "metadata": {},
     "output_type": "execute_result"
    }
   ],
   "source": [
    "model.predict_proba('Barcelona', 'Valencia')"
   ]
  },
  {
   "cell_type": "code",
   "execution_count": 82,
   "metadata": {},
   "outputs": [
    {
     "name": "stdout",
     "output_type": "stream",
     "text": [
      "2021-22 2 Sporting de Gijon-Valladolid\n",
      "2021-22 2 Ponferradina-Oviedo\n",
      "2021-22 2 Leganes-Tenerife\n",
      "2021-22 2 Malaga-Lugo\n",
      "2021-22 2 Mirandes-Almeria\n",
      "2021-22 1 Valencia-Mallorca\n",
      "2021-22 1 Sevilla-Levante\n",
      "2021-22 1 Cadiz-Alaves\n",
      "2021-22 1 Osasuna-Granada\n",
      "2021-22 1 Getafe-Celta\n",
      "2021-22 1 Betis-Rayo Vallecano\n",
      "2021-22 1 Atletico de Bilbao-Villarreal\n",
      "2021-22 1 Elche-Espanol\n",
      "2021-22 1 Atletico de Madrid-Real Sociedad\n",
      "2021-22 1 Barcelona-Real Madrid\n"
     ]
    }
   ],
   "source": [
    "partidos_predict = part_test\n",
    "\n",
    "for div in divisiones:\n",
    "    if div == 1:\n",
    "        model = model1\n",
    "        coefs = coefs1\n",
    "    else:\n",
    "        model = model2\n",
    "        coefs = coefs2\n",
    "        \n",
    "    part_test = partidos_predict[partidos_predict['division'] == div]\n",
    "\n",
    "    for index, row in part_test.iterrows():\n",
    "        print(temp + ' ' + str(div) + ' ' + row.equipo_local + '-' + row.equipo_visitante )\n",
    "        part_test.at[part_test['id_partido'] == row.id_partido, 'local_home_wins'] = \\\n",
    "            coefs.loc['home_'+row.equipo_local]['home wins'][0]\n",
    "        part_test.at[part_test['id_partido'] == row.id_partido, 'local_draw'] = \\\n",
    "            coefs.loc['home_'+row.equipo_local]['draw'][0]\n",
    "        part_test.at[part_test['id_partido'] == row.id_partido, 'local_away_wins'] = \\\n",
    "            coefs.loc['home_'+row.equipo_local]['away wins'][0]\n",
    "\n",
    "        part_test.at[part_test['id_partido'] == row.id_partido, 'visitante_home_wins'] = \\\n",
    "            coefs.loc['away_'+row.equipo_local]['home wins'][0]\n",
    "        part_test.at[part_test['id_partido'] == row.id_partido, 'visitante_draw'] = \\\n",
    "            coefs.loc['away_'+row.equipo_local]['draw'][0]\n",
    "        part_test.at[part_test['id_partido'] == row.id_partido, 'visitante_away_wins'] = \\\n",
    "            coefs.loc['away_'+row.equipo_local]['away wins'][0]\n",
    "\n",
    "        part_test.at[part_test['id_partido'] == row.id_partido, 'probs_equipo_local'] = \\\n",
    "            model.predict_proba(row.equipo_local, row.equipo_visitante)[row.equipo_local][0]\n",
    "        part_test.at[part_test['id_partido'] == row.id_partido, 'probs_equipo_visitante'] = \\\n",
    "            model.predict_proba(row.equipo_local, row.equipo_visitante)[row.equipo_visitante][0]\n",
    "        part_test.at[part_test['id_partido'] == row.id_partido, 'probs_draw'] = \\\n",
    "            model.predict_proba(row.equipo_local, row.equipo_visitante)['draw'][0]\n",
    "    \n",
    "    if div == 1:\n",
    "        part_test_1 = part_test\n",
    "    else:\n",
    "        part_test_2 = part_test\n"
   ]
  },
  {
   "cell_type": "code",
   "execution_count": 83,
   "metadata": {},
   "outputs": [],
   "source": [
    "part_test_1.to_csv('jornada_with_octopy_probabilites_1.csv')\n",
    "part_test_2.to_csv('jornada_with_octopy_probabilites_2.csv')"
   ]
  },
  {
   "cell_type": "markdown",
   "metadata": {},
   "source": [
    "## Convert String Date to Timestamp"
   ]
  },
  {
   "cell_type": "code",
   "execution_count": 84,
   "metadata": {},
   "outputs": [],
   "source": [
    "import time\n",
    "import datetime"
   ]
  },
  {
   "cell_type": "code",
   "execution_count": 85,
   "metadata": {},
   "outputs": [
    {
     "data": {
      "text/plain": [
       "1635026400.0"
      ]
     },
     "execution_count": 85,
     "metadata": {},
     "output_type": "execute_result"
    }
   ],
   "source": [
    "time.mktime(datetime.datetime.strptime(\"24/10/2021\", \"%d/%m/%Y\").timetuple())"
   ]
  }
 ],
 "metadata": {
  "interpreter": {
   "hash": "76352908022160cbea6df34b154368c2092eb077e9c9fedebab361976f0e12eb"
  },
  "kernelspec": {
   "display_name": "Python 3.7.9 64-bit ('fastai': conda)",
   "name": "python3"
  },
  "language_info": {
   "codemirror_mode": {
    "name": "ipython",
    "version": 3
   },
   "file_extension": ".py",
   "mimetype": "text/x-python",
   "name": "python",
   "nbconvert_exporter": "python",
   "pygments_lexer": "ipython3",
   "version": "3.7.9"
  },
  "metadata": {
   "interpreter": {
    "hash": "aee8b7b246df8f9039afb4144a1f6fd8d2ca17a180786b69acc140d282b71a49"
   }
  },
  "orig_nbformat": 2
 },
 "nbformat": 4,
 "nbformat_minor": 2
}
