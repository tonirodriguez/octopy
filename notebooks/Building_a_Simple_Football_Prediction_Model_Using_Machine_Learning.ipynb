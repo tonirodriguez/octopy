{
  "cells": [
    {
      "cell_type": "markdown",
      "metadata": {
        "id": "fRetrdKu_sPZ"
      },
      "source": [
        "This notebook shows an example of the model presented in the following [Medium article](https://medium.com/@octosport)."
      ]
    },
    {
      "cell_type": "code",
      "execution_count": 4,
      "metadata": {
        "colab": {
          "base_uri": "https://localhost:8080/"
        },
        "id": "Wqa6jkgzOGCQ",
        "outputId": "da99389f-8463-4da9-ab57-d08933fafb27"
      },
      "outputs": [
        {
          "name": "stdout",
          "output_type": "stream",
          "text": [
            "Collecting git+https://github.com/octosport/octopy.git\n",
            "  Cloning https://github.com/octosport/octopy.git to /private/var/folders/xg/f9kxbr7523sc6p79_hjsy2w00000gn/T/pip-req-build-c74v86lz\n",
            "  Running command git clone --filter=blob:none -q https://github.com/octosport/octopy.git /private/var/folders/xg/f9kxbr7523sc6p79_hjsy2w00000gn/T/pip-req-build-c74v86lz\n",
            "  Resolved https://github.com/octosport/octopy.git to commit 5f199443d0acf95e0d1d9a42a2f6a5f16622cd40\n",
            "  Preparing metadata (setup.py) ... \u001b[?25ldone\n",
            "\u001b[?25hRequirement already satisfied: pandas>=1.1.3 in /opt/anaconda3/envs/fastai/lib/python3.7/site-packages (from octopy==1.0.0) (1.2.2)\n",
            "Requirement already satisfied: scipy>=1.5.2 in /opt/anaconda3/envs/fastai/lib/python3.7/site-packages (from octopy==1.0.0) (1.6.0)\n",
            "Requirement already satisfied: scikit-learn>=0.23.2 in /opt/anaconda3/envs/fastai/lib/python3.7/site-packages (from octopy==1.0.0) (0.23.2)\n",
            "Requirement already satisfied: jax>=0.2.17 in /opt/anaconda3/envs/fastai/lib/python3.7/site-packages (from octopy==1.0.0) (0.2.21)\n",
            "Requirement already satisfied: opt-einsum in /opt/anaconda3/envs/fastai/lib/python3.7/site-packages (from jax>=0.2.17->octopy==1.0.0) (3.3.0)\n",
            "Requirement already satisfied: absl-py in /opt/anaconda3/envs/fastai/lib/python3.7/site-packages (from jax>=0.2.17->octopy==1.0.0) (0.11.0)\n",
            "Requirement already satisfied: numpy>=1.18 in /opt/anaconda3/envs/fastai/lib/python3.7/site-packages (from jax>=0.2.17->octopy==1.0.0) (1.19.2)\n",
            "Requirement already satisfied: python-dateutil>=2.7.3 in /opt/anaconda3/envs/fastai/lib/python3.7/site-packages (from pandas>=1.1.3->octopy==1.0.0) (2.8.1)\n",
            "Requirement already satisfied: pytz>=2017.3 in /opt/anaconda3/envs/fastai/lib/python3.7/site-packages (from pandas>=1.1.3->octopy==1.0.0) (2021.1)\n",
            "Requirement already satisfied: joblib>=0.11 in /opt/anaconda3/envs/fastai/lib/python3.7/site-packages (from scikit-learn>=0.23.2->octopy==1.0.0) (1.0.1)\n",
            "Requirement already satisfied: threadpoolctl>=2.0.0 in /opt/anaconda3/envs/fastai/lib/python3.7/site-packages (from scikit-learn>=0.23.2->octopy==1.0.0) (2.1.0)\n",
            "Requirement already satisfied: six>=1.5 in /opt/anaconda3/envs/fastai/lib/python3.7/site-packages (from python-dateutil>=2.7.3->pandas>=1.1.3->octopy==1.0.0) (1.15.0)\n"
          ]
        }
      ],
      "source": [
        "!pip install git+https://github.com/octosport/octopy.git"
      ]
    },
    {
      "cell_type": "code",
      "execution_count": 5,
      "metadata": {
        "id": "gIAXUSc5Okpl"
      },
      "outputs": [],
      "source": [
        "import pandas as pd\n",
        "import datetime\n",
        "from octopy.logistic_model import LogisticModel"
      ]
    },
    {
      "cell_type": "code",
      "execution_count": 6,
      "metadata": {
        "id": "J21g-QkFVvzs"
      },
      "outputs": [],
      "source": [
        "#get English premier league dataset\n",
        "data = pd.read_csv('https://raw.githubusercontent.com/octosport/octopy/master/data/epl.csv')"
      ]
    },
    {
      "cell_type": "code",
      "execution_count": 7,
      "metadata": {
        "id": "A57yToDROlIl"
      },
      "outputs": [],
      "source": [
        "\n",
        "#get the data in the train date range\n",
        "data.date = pd.DatetimeIndex(data.date)  \n",
        "data_train = data.loc[(data.date < datetime.datetime(2021,3,1)) & (data.date >= (datetime.datetime(2018,3,4)))]\n",
        "\n",
        "#train the model\n",
        "model = LogisticModel()\n",
        "model.fit(data_train.home,data_train.away,data_train.home_goals,data_train.away_goals)"
      ]
    },
    {
      "cell_type": "code",
      "execution_count": 8,
      "metadata": {
        "colab": {
          "base_uri": "https://localhost:8080/",
          "height": 390
        },
        "id": "TKn6uZr5PdsC",
        "outputId": "96eb48b3-931c-469d-8ffd-25dd3badfb8c"
      },
      "outputs": [
        {
          "data": {
            "text/html": [
              "<div>\n",
              "<style scoped>\n",
              "    .dataframe tbody tr th:only-of-type {\n",
              "        vertical-align: middle;\n",
              "    }\n",
              "\n",
              "    .dataframe tbody tr th {\n",
              "        vertical-align: top;\n",
              "    }\n",
              "\n",
              "    .dataframe thead th {\n",
              "        text-align: right;\n",
              "    }\n",
              "</style>\n",
              "<table border=\"1\" class=\"dataframe\">\n",
              "  <thead>\n",
              "    <tr style=\"text-align: right;\">\n",
              "      <th></th>\n",
              "      <th>home wins</th>\n",
              "    </tr>\n",
              "  </thead>\n",
              "  <tbody>\n",
              "    <tr>\n",
              "      <th>home_Manchester City</th>\n",
              "      <td>1.63</td>\n",
              "    </tr>\n",
              "    <tr>\n",
              "      <th>home_Liverpool</th>\n",
              "      <td>1.61</td>\n",
              "    </tr>\n",
              "    <tr>\n",
              "      <th>away_Norwich City</th>\n",
              "      <td>1.0</td>\n",
              "    </tr>\n",
              "    <tr>\n",
              "      <th>away_AFC Bournemouth</th>\n",
              "      <td>0.75</td>\n",
              "    </tr>\n",
              "    <tr>\n",
              "      <th>home_Arsenal</th>\n",
              "      <td>0.7</td>\n",
              "    </tr>\n",
              "    <tr>\n",
              "      <th>...</th>\n",
              "      <td>...</td>\n",
              "    </tr>\n",
              "    <tr>\n",
              "      <th>home_Stoke City</th>\n",
              "      <td>-0.96</td>\n",
              "    </tr>\n",
              "    <tr>\n",
              "      <th>away_Manchester United</th>\n",
              "      <td>-1.1</td>\n",
              "    </tr>\n",
              "    <tr>\n",
              "      <th>away_Manchester City</th>\n",
              "      <td>-1.35</td>\n",
              "    </tr>\n",
              "    <tr>\n",
              "      <th>home_Huddersfield Town</th>\n",
              "      <td>-1.37</td>\n",
              "    </tr>\n",
              "    <tr>\n",
              "      <th>away_Liverpool</th>\n",
              "      <td>-1.53</td>\n",
              "    </tr>\n",
              "  </tbody>\n",
              "</table>\n",
              "</div>"
            ],
            "text/plain": [
              "                       home wins\n",
              "home_Manchester City        1.63\n",
              "home_Liverpool              1.61\n",
              "away_Norwich City            1.0\n",
              "away_AFC Bournemouth        0.75\n",
              "home_Arsenal                 0.7\n",
              "...                          ...\n",
              "home_Stoke City            -0.96\n",
              "away_Manchester United      -1.1\n",
              "away_Manchester City       -1.35\n",
              "home_Huddersfield Town     -1.37\n",
              "away_Liverpool             -1.53"
            ]
          },
          "execution_count": 8,
          "metadata": {},
          "output_type": "execute_result"
        }
      ],
      "source": [
        "#get the table from the \n",
        "teams_coef = model.get_coef()[['home wins']].sort_values('home wins',ascending=False) .round(2)\n",
        "teams_coef.index = [x[0] for x in teams_coef.index.values.ravel()]\n",
        "\n",
        "teams_coef = teams_coef.head(5).append(pd.DataFrame('...',index=['...'],columns=['home wins'])).append(teams_coef.tail(5))\n",
        "teams_coef"
      ]
    }
  ],
  "metadata": {
    "colab": {
      "collapsed_sections": [],
      "name": "Building a Simple Football Prediction Model Using Machine Learning",
      "provenance": []
    },
    "kernelspec": {
      "display_name": "Python 3",
      "name": "python3"
    },
    "language_info": {
      "codemirror_mode": {
        "name": "ipython",
        "version": 3
      },
      "file_extension": ".py",
      "mimetype": "text/x-python",
      "name": "python",
      "nbconvert_exporter": "python",
      "pygments_lexer": "ipython3",
      "version": "3.7.9"
    }
  },
  "nbformat": 4,
  "nbformat_minor": 0
}
